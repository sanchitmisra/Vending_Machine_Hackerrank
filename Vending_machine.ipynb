{
  "nbformat": 4,
  "nbformat_minor": 0,
  "metadata": {
    "colab": {
      "name": "Vending machine.ipynb",
      "provenance": [],
      "authorship_tag": "ABX9TyMvN/cxjNX11nGKV38qKEyB",
      "include_colab_link": true
    },
    "kernelspec": {
      "name": "python3",
      "display_name": "Python 3"
    },
    "language_info": {
      "name": "python"
    }
  },
  "cells": [
    {
      "cell_type": "markdown",
      "metadata": {
        "id": "view-in-github",
        "colab_type": "text"
      },
      "source": [
        "<a href=\"https://colab.research.google.com/github/sanchitmisra/Vending_Machine_Hackerrank/blob/main/Vending_machine.ipynb\" target=\"_parent\"><img src=\"https://colab.research.google.com/assets/colab-badge.svg\" alt=\"Open In Colab\"/></a>"
      ]
    },
    {
      "cell_type": "code",
      "execution_count": 6,
      "metadata": {
        "id": "eroVUy-v6xAJ"
      },
      "outputs": [],
      "source": [
        "#!/bin/python3\n",
        "\n",
        "\n",
        "import math\n",
        "import os\n",
        "import random\n",
        "import re\n",
        "import sys\n",
        "\n",
        "\n",
        "class VendingMachine:\n",
        "    # Implement the VendingMachine here\n",
        "    item_coins = 0\n",
        "    num_items = 0\n",
        "    \n",
        "    def __init__(self, num_items, item_coins):\n",
        "        self.num_items = num_items\n",
        "        self.item_coins = item_coins\n",
        "    \n",
        "    def buy(self, req_items, money):\n",
        "        total = 0;\n",
        "        balance = 0\n",
        "        if(req_items > self.num_items):\n",
        "            return 'Not enough items in the machine'\n",
        "        \n",
        "        total = self.item_coins * req_items\n",
        "        if(money < total):\n",
        "            return 'Not enough coins'\n",
        "        \n",
        "        if(self.num_items >= req_items):\n",
        "            balance =  money - total\n",
        "            self.num_items -= req_items\n",
        "            return balance\n",
        "    pass\n",
        "    \n",
        "#if __name__ == '__main__':\n"
      ]
    },
    {
      "cell_type": "code",
      "source": [
        ""
      ],
      "metadata": {
        "id": "k2fYbM5ux0MN"
      },
      "execution_count": null,
      "outputs": []
    }
  ]
}